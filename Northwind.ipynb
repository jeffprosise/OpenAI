{
 "cells": [
  {
   "cell_type": "markdown",
   "id": "23b733cc",
   "metadata": {},
   "source": [
    "# ChatGPT Over Databases\n",
    "\n",
    "You can put ChatGPT over a database by using ChatGPT to convert natural-language questions such as \"How many employees does Northwind have?\" into SQL queries and then executing those queries against the database. The following examples use ChatGPT to expose information in Microsoft's Northwind database. They require [SQLite3](https://www.sqlite.org/index.html). Before running this notebook, create an environment variable named `API_KEY` and set it equal to your OpenAI API key.\n",
    "\n",
    "Begin by using SQLite3 to connect to the database and list the names of all Northwind employees:"
   ]
  },
  {
   "cell_type": "code",
   "execution_count": 1,
   "id": "3a5b0f4e",
   "metadata": {
    "scrolled": true
   },
   "outputs": [
    {
     "name": "stdout",
     "output_type": "stream",
     "text": [
      "Nancy Davolio\n",
      "Andrew Fuller\n",
      "Janet Leverling\n",
      "Margaret Peacock\n",
      "Steven Buchanan\n",
      "Michael Suyama\n",
      "Robert King\n",
      "Laura Callahan\n",
      "Anne Dodsworth\n"
     ]
    }
   ],
   "source": [
    "import sqlite3\n",
    "\n",
    "connection = sqlite3.connect('Data/northwind.db')\n",
    "cursor = connection.cursor()\n",
    "cursor.execute('SELECT * FROM Employees')\n",
    "rows = cursor.fetchall()\n",
    "\n",
    "for row in rows:\n",
    "    print(row[2] + ' ' + row[1])"
   ]
  },
  {
   "cell_type": "markdown",
   "id": "b332d630",
   "metadata": {},
   "source": [
    "Now use ChatGPT to convert a question into a SQL query. Observe that the prompt includes a CREATE TABLE statement that details the structure of the Employees table to the LLM:"
   ]
  },
  {
   "cell_type": "code",
   "execution_count": 2,
   "id": "639aa22d",
   "metadata": {},
   "outputs": [
    {
     "name": "stdout",
     "output_type": "stream",
     "text": [
      "SELECT COUNT(*) FROM Employees;\n"
     ]
    }
   ],
   "source": [
    "import os\n",
    "from openai import OpenAI\n",
    "\n",
    "client = OpenAI(api_key=os.environ['API_KEY'])\n",
    "question = 'How many employees does Northwind have?'\n",
    "\n",
    "prompt = f'''\n",
    "Assume the database has a table named Employees that is defined as follows:\n",
    "\n",
    "CREATE TABLE [Employees](\n",
    "  [EmployeeID] INTEGER PRIMARY KEY AUTOINCREMENT,\n",
    "  [LastName] TEXT,\n",
    "  [FirstName] TEXT,\n",
    "  [Title] TEXT,\n",
    "  [TitleOfCourtesy] TEXT,\n",
    "  [BirthDate] DATE,\n",
    "  [HireDate] DATE,\n",
    "  [Address] TEXT,\n",
    "  [City] TEXT,\n",
    "  [Region] TEXT,\n",
    "  [PostalCode] TEXT,\n",
    "  [Country] TEXT,\n",
    "  [HomePhone] TEXT,\n",
    "  [Extension] TEXT,\n",
    "  [Photo] BLOB,\n",
    "  [Notes] TEXT,\n",
    "  [ReportsTo] INTEGER,\n",
    "  [PhotoPath] TEXT\n",
    ");\n",
    "\n",
    "Generate a well-formed SQL query from the following prompt:\n",
    "\n",
    "PROMPT: {question}\n",
    "'''\n",
    "\n",
    "messages = [\n",
    "    { 'role': 'user', 'content': prompt }\n",
    "]\n",
    "\n",
    "response = client.chat.completions.create(\n",
    "    model='gpt-3.5-turbo',\n",
    "    messages=messages,\n",
    "    temperature=0\n",
    ")\n",
    "\n",
    "sql = response.choices[0].message.content\n",
    "print(sql)"
   ]
  },
  {
   "cell_type": "markdown",
   "id": "a645953f",
   "metadata": {},
   "source": [
    "Execute the query against the database:"
   ]
  },
  {
   "cell_type": "code",
   "execution_count": 3,
   "id": "1788fd15",
   "metadata": {},
   "outputs": [
    {
     "name": "stdout",
     "output_type": "stream",
     "text": [
      "[(9,)]\n"
     ]
    }
   ],
   "source": [
    "cursor.execute(sql)\n",
    "result = cursor.fetchall()\n",
    "print(result)"
   ]
  },
  {
   "cell_type": "markdown",
   "id": "3f257007",
   "metadata": {},
   "source": [
    "Pass the question and the query results to ChatGPT and ask it to phrase an answer in natural language:"
   ]
  },
  {
   "cell_type": "code",
   "execution_count": 4,
   "id": "bd689108",
   "metadata": {},
   "outputs": [
    {
     "name": "stdout",
     "output_type": "stream",
     "text": [
      "Northwind has 9 employees.\n"
     ]
    }
   ],
   "source": [
    "prompt = f'''\n",
    "Given the following question and query result, phrase the answer\n",
    "in terms that a human can understand.\n",
    "\n",
    "QUESTION: {question}\n",
    "\n",
    "RESULT: {result}\n",
    "'''\n",
    "\n",
    "messages = [\n",
    "    { 'role': 'user', 'content': prompt }\n",
    "]\n",
    "\n",
    "response = client.chat.completions.create(\n",
    "    model='gpt-3.5-turbo',\n",
    "    messages=messages\n",
    ")\n",
    "\n",
    "print(response.choices[0].message.content)"
   ]
  },
  {
   "cell_type": "markdown",
   "id": "428376cf",
   "metadata": {},
   "source": [
    "Now let's try a question that involves the Products table:"
   ]
  },
  {
   "cell_type": "code",
   "execution_count": 5,
   "id": "219620f6",
   "metadata": {},
   "outputs": [
    {
     "name": "stdout",
     "output_type": "stream",
     "text": [
      "SELECT ProductName\n",
      "FROM Products\n",
      "WHERE Discontinued = '1' AND UnitsInStock > 0;\n"
     ]
    }
   ],
   "source": [
    "question = 'Which products have been discontinued but are currently in stock?'\n",
    "\n",
    "prompt = f'''\n",
    "Assume the database has a table named Products that is defined as follows:\n",
    "\n",
    "CREATE TABLE [Products](\n",
    "  [ProductID]INTEGER NOT NULL PRIMARY KEY AUTOINCREMENT,\n",
    "  [ProductName]TEXT NOT NULL,\n",
    "  [SupplierID]INTEGER,\n",
    "  [CategoryID]INTEGER,\n",
    "  [QuantityPerUnit]TEXT,\n",
    "  [UnitPrice]NUMERIC DEFAULT 0,\n",
    "  [UnitsInStock]INTEGER DEFAULT 0,\n",
    "  [UnitsOnOrder]INTEGER DEFAULT 0,\n",
    "  [ReorderLevel]INTEGER DEFAULT 0,\n",
    "  [Discontinued]TEXT NOT NULL DEFAULT '0'\n",
    ");\n",
    "\n",
    "Generate a well-formed SQL query from the following prompt:\n",
    "\n",
    "PROMPT: {question}\n",
    "'''\n",
    "\n",
    "messages = [\n",
    "    { 'role': 'user', 'content': prompt }\n",
    "]\n",
    "\n",
    "response = client.chat.completions.create(\n",
    "    model='gpt-3.5-turbo',\n",
    "    messages=messages,\n",
    "    temperature=0\n",
    ")\n",
    "\n",
    "sql = response.choices[0].message.content\n",
    "print(sql)"
   ]
  },
  {
   "cell_type": "markdown",
   "id": "8e4d18f2",
   "metadata": {},
   "source": [
    "Execute the query against the database:"
   ]
  },
  {
   "cell_type": "code",
   "execution_count": 6,
   "id": "c0aaa2cf",
   "metadata": {},
   "outputs": [
    {
     "name": "stdout",
     "output_type": "stream",
     "text": [
      "[('Mishi Kobe Niku',), ('Guaraná Fantástica',), ('Rössle Sauerkraut',), ('Singaporean Hokkien Fried Mee',)]\n"
     ]
    }
   ],
   "source": [
    "cursor.execute(sql)\n",
    "result = cursor.fetchall()\n",
    "print(result)"
   ]
  },
  {
   "cell_type": "markdown",
   "id": "4fbf7ad5",
   "metadata": {},
   "source": [
    "Ask ChatGPT the phrase the answer using natural language:"
   ]
  },
  {
   "cell_type": "code",
   "execution_count": 7,
   "id": "aed3b96f",
   "metadata": {},
   "outputs": [
    {
     "name": "stdout",
     "output_type": "stream",
     "text": [
      "The products that have been discontinued but are currently in stock are Mishi Kobe Niku, Guaraná Fantástica, Rössle Sauerkraut, and Singaporean Hokkien Fried Mee.\n"
     ]
    }
   ],
   "source": [
    "prompt = f'''\n",
    "Given the following question and query result, phrase the answer\n",
    "in terms that a human can understand.\n",
    "\n",
    "QUESTION: {question}\n",
    "\n",
    "RESULT: {result}\n",
    "'''\n",
    "\n",
    "messages = [\n",
    "    { 'role': 'user', 'content': prompt }\n",
    "]\n",
    "\n",
    "response = client.chat.completions.create(\n",
    "    model='gpt-3.5-turbo',\n",
    "    messages=messages\n",
    ")\n",
    "\n",
    "print(response.choices[0].message.content)"
   ]
  },
  {
   "cell_type": "markdown",
   "id": "e75b03ac",
   "metadata": {},
   "source": [
    "Do it again, but this time ask ChatGPT to include the number of units that are in stock for each item that has been discontinued as well as the combined value of all the units:"
   ]
  },
  {
   "cell_type": "code",
   "execution_count": 8,
   "id": "0478184f",
   "metadata": {},
   "outputs": [
    {
     "name": "stdout",
     "output_type": "stream",
     "text": [
      "SELECT ProductName, UnitsInStock, UnitPrice * UnitsInStock AS TotalValue\n",
      "FROM Products\n",
      "WHERE Discontinued = '1' AND UnitsInStock > 0;\n"
     ]
    }
   ],
   "source": [
    "question = '''\n",
    "Which products have been discontinued but are currently in stock,\n",
    "how many of each is in stock, and what is the combined value of all\n",
    "the products?\n",
    "'''\n",
    "\n",
    "prompt = f'''\n",
    "Assume the database has a table named Products that is defined as follows:\n",
    "\n",
    "CREATE TABLE [Products](\n",
    "  [ProductID]INTEGER NOT NULL PRIMARY KEY AUTOINCREMENT,\n",
    "  [ProductName]TEXT NOT NULL,\n",
    "  [SupplierID]INTEGER,\n",
    "  [CategoryID]INTEGER,\n",
    "  [QuantityPerUnit]TEXT,\n",
    "  [UnitPrice]NUMERIC DEFAULT 0,\n",
    "  [UnitsInStock]INTEGER DEFAULT 0,\n",
    "  [UnitsOnOrder]INTEGER DEFAULT 0,\n",
    "  [ReorderLevel]INTEGER DEFAULT 0,\n",
    "  [Discontinued]TEXT NOT NULL DEFAULT '0'\n",
    ");\n",
    "\n",
    "Generate a well-formed SQL query from the following prompt:\n",
    "\n",
    "PROMPT: {question}\n",
    "'''\n",
    "\n",
    "messages = [\n",
    "    { 'role': 'user', 'content': prompt }\n",
    "]\n",
    "\n",
    "response = client.chat.completions.create(\n",
    "    model='gpt-3.5-turbo',\n",
    "    messages=messages,\n",
    "    temperature=0\n",
    ")\n",
    "\n",
    "sql = response.choices[0].message.content\n",
    "print(sql)"
   ]
  },
  {
   "cell_type": "code",
   "execution_count": 9,
   "id": "cfd5e550",
   "metadata": {},
   "outputs": [
    {
     "name": "stdout",
     "output_type": "stream",
     "text": [
      "[('Mishi Kobe Niku', 29, 2813), ('Guaraná Fantástica', 20, 90.0), ('Rössle Sauerkraut', 26, 1185.6000000000001), ('Singaporean Hokkien Fried Mee', 26, 364)]\n"
     ]
    }
   ],
   "source": [
    "cursor.execute(sql)\n",
    "result = cursor.fetchall()\n",
    "print(result)"
   ]
  },
  {
   "cell_type": "code",
   "execution_count": 10,
   "id": "c48dc8ef",
   "metadata": {},
   "outputs": [
    {
     "name": "stdout",
     "output_type": "stream",
     "text": [
      "The products that have been discontinued but are currently in stock are Mishi Kobe Niku, Guaraná Fantástica, Rössle Sauerkraut, and Singaporean Hokkien Fried Mee. There are 29 units of Mishi Kobe Niku, 20 units of Guaraná Fantástica, 26 units of Rössle Sauerkraut, and 26 units of Singaporean Hokkien Fried Mee in stock. The combined value of all these products is $4,452.60.\n"
     ]
    }
   ],
   "source": [
    "prompt = f'''\n",
    "Given the following question and query result, phrase the answer\n",
    "in terms that a human can understand.\n",
    "\n",
    "QUESTION: {question}\n",
    "\n",
    "RESULT: {result}\n",
    "'''\n",
    "\n",
    "messages = [\n",
    "    { 'role': 'user', 'content': prompt }\n",
    "]\n",
    "\n",
    "response = client.chat.completions.create(\n",
    "    model='gpt-3.5-turbo',\n",
    "    messages=messages\n",
    ")\n",
    "\n",
    "print(response.choices[0].message.content)"
   ]
  },
  {
   "cell_type": "markdown",
   "id": "496ad0a2",
   "metadata": {},
   "source": [
    "Now try something more ambitious: a question that involves two tables. Note that the definition of the Products table now includes a foreign key relationship to the Suppliers table:"
   ]
  },
  {
   "cell_type": "code",
   "execution_count": 11,
   "id": "7cdd2250",
   "metadata": {},
   "outputs": [
    {
     "name": "stdout",
     "output_type": "stream",
     "text": [
      "SELECT Products.ProductName, Suppliers.CompanyName\n",
      "FROM Products\n",
      "JOIN Suppliers ON Products.SupplierID = Suppliers.SupplierID\n",
      "WHERE Products.UnitsInStock = 0;\n"
     ]
    }
   ],
   "source": [
    "question = 'List all products that are currently out of stock and the suppliers for those products.'\n",
    "\n",
    "prompt = f'''\n",
    "Assume the database has table named Products and Suppliers that are defined as follows:\n",
    "\n",
    "CREATE TABLE [Products](\n",
    "  [ProductID]INTEGER NOT NULL PRIMARY KEY AUTOINCREMENT,\n",
    "  [ProductName]TEXT NOT NULL,\n",
    "  [SupplierID]INTEGER,\n",
    "  [CategoryID]INTEGER,\n",
    "  [QuantityPerUnit]TEXT,\n",
    "  [UnitPrice]NUMERIC DEFAULT 0,\n",
    "  [UnitsInStock]INTEGER DEFAULT 0,\n",
    "  [UnitsOnOrder]INTEGER DEFAULT 0,\n",
    "  [ReorderLevel]INTEGER DEFAULT 0,\n",
    "  [Discontinued]TEXT NOT NULL DEFAULT '0',\n",
    "  FOREIGN KEY ([SupplierID]) REFERENCES [Suppliers] ([SupplierID])\n",
    ");\n",
    "\n",
    "CREATE TABLE [Suppliers](\n",
    "   [SupplierID]INTEGER NOT NULL PRIMARY KEY AUTOINCREMENT,\n",
    "   [CompanyName]TEXT NOT NULL,\n",
    "   [ContactName]TEXT,\n",
    "   [ContactTitle]TEXT,\n",
    "   [Address]TEXT,\n",
    "   [City]TEXT,\n",
    "   [Region]TEXT,\n",
    "   [PostalCode]TEXT,\n",
    "   [Country]TEXT,\n",
    "   [Phone]TEXT,\n",
    "   [Fax]TEXT,\n",
    "   [HomePage]TEXT\n",
    ");\n",
    "\n",
    "Generate a well-formed SQL query from the following prompt:\n",
    "\n",
    "PROMPT: {question}\n",
    "'''\n",
    "\n",
    "messages = [\n",
    "    { 'role': 'user', 'content': prompt }\n",
    "]\n",
    "\n",
    "response = client.chat.completions.create(\n",
    "    model='gpt-3.5-turbo',\n",
    "    messages=messages,\n",
    "    temperature=0\n",
    ")\n",
    "\n",
    "sql = response.choices[0].message.content\n",
    "print(sql)"
   ]
  },
  {
   "cell_type": "code",
   "execution_count": 12,
   "id": "3b9b16f9",
   "metadata": {},
   "outputs": [
    {
     "name": "stdout",
     "output_type": "stream",
     "text": [
      "[(\"Chef Anton's Gumbo Mix\", 'New Orleans Cajun Delights'), ('Alice Mutton', 'Pavlova, Ltd.'), ('Thüringer Rostbratwurst', 'Plutzer Lebensmittelgroßmärkte AG'), ('Gorgonzola Telino', 'Formaggi Fortini s.r.l.'), ('Perth Pasties', \"G'day, Mate\")]\n"
     ]
    }
   ],
   "source": [
    "cursor.execute(sql)\n",
    "result = cursor.fetchall()\n",
    "print(result)"
   ]
  },
  {
   "cell_type": "code",
   "execution_count": 13,
   "id": "da84d097",
   "metadata": {},
   "outputs": [
    {
     "name": "stdout",
     "output_type": "stream",
     "text": [
      "The products that are currently out of stock and their respective suppliers are: \n",
      "- Chef Anton's Gumbo Mix (Supplier: New Orleans Cajun Delights)\n",
      "- Alice Mutton (Supplier: Pavlova, Ltd.)\n",
      "- Thüringer Rostbratwurst (Supplier: Plutzer Lebensmittelgroßmärkte AG)\n",
      "- Gorgonzola Telino (Supplier: Formaggi Fortini s.r.l.)\n",
      "- Perth Pasties (Supplier: G'day, Mate)\n"
     ]
    }
   ],
   "source": [
    "prompt = f'''\n",
    "Given the following question and query result, phrase the answer\n",
    "in terms that a human can understand.\n",
    "\n",
    "QUESTION: {question}\n",
    "\n",
    "RESULT: {result}\n",
    "'''\n",
    "\n",
    "messages = [\n",
    "    { 'role': 'user', 'content': prompt }\n",
    "]\n",
    "\n",
    "response = client.chat.completions.create(\n",
    "    model='gpt-3.5-turbo',\n",
    "    messages=messages\n",
    ")\n",
    "\n",
    "print(response.choices[0].message.content)"
   ]
  },
  {
   "cell_type": "markdown",
   "id": "eac11e35",
   "metadata": {},
   "source": [
    "Show the answer again, but this time use markdown to show tabular results:"
   ]
  },
  {
   "cell_type": "code",
   "execution_count": 14,
   "id": "5a3b9695",
   "metadata": {},
   "outputs": [
    {
     "data": {
      "text/markdown": [
       "The following products are currently out of stock:\n",
       "\n",
       "| Product Name             | Supplier                       |\n",
       "|--------------------------|--------------------------------|\n",
       "| Chef Anton's Gumbo Mix   | New Orleans Cajun Delights     |\n",
       "| Alice Mutton             | Pavlova, Ltd.                  |\n",
       "| Thüringer Rostbratwurst  | Plutzer Lebensmittelgroßmärkte AG |\n",
       "| Gorgonzola Telino        | Formaggi Fortini s.r.l.        |\n",
       "| Perth Pasties            | G'day, Mate                    |"
      ],
      "text/plain": [
       "<IPython.core.display.Markdown object>"
      ]
     },
     "metadata": {},
     "output_type": "display_data"
    }
   ],
   "source": [
    "from IPython.display import Markdown, display\n",
    "\n",
    "prompt = f'''\n",
    "Given the following question and query result, phrase the answer in\n",
    "terms that a human can understand. Format the results in markdown and\n",
    "include a markdown table if appropriate.\n",
    "\n",
    "QUESTION: {question}\n",
    "\n",
    "RESULT: {result}\n",
    "'''\n",
    "\n",
    "messages = [\n",
    "    { 'role': 'user', 'content': prompt }\n",
    "]\n",
    "\n",
    "response = client.chat.completions.create(\n",
    "    model='gpt-3.5-turbo',\n",
    "    messages=messages\n",
    ")\n",
    "\n",
    "display(Markdown(response.choices[0].message.content))"
   ]
  },
  {
   "cell_type": "markdown",
   "id": "e7419a7a",
   "metadata": {},
   "source": [
    "ChatGPT's ability to convert natural-language questions into SQL queries and phrase query results in natural language provides a powerful capability to make information in a database easily discoverable. Tools such as [LangChain](https://www.langchain.com/) provide handy classes for putting LLMs over databases, but this notebook demonstrates how such frameworks work."
   ]
  }
 ],
 "metadata": {
  "kernelspec": {
   "display_name": "Python 3 (ipykernel)",
   "language": "python",
   "name": "python3"
  },
  "language_info": {
   "codemirror_mode": {
    "name": "ipython",
    "version": 3
   },
   "file_extension": ".py",
   "mimetype": "text/x-python",
   "name": "python",
   "nbconvert_exporter": "python",
   "pygments_lexer": "ipython3",
   "version": "3.11.4"
  }
 },
 "nbformat": 4,
 "nbformat_minor": 5
}
