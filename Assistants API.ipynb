{
 "cells": [
  {
   "cell_type": "markdown",
   "id": "ce56890a",
   "metadata": {},
   "source": [
    "# OpenAI Assistants API\n",
    "\n",
    "OpenAI's [Assistants API](https://platform.openai.com/docs/assistants/overview), which is currently in beta, lets you build AI assistants for your own applications. An assistant can leverage models, tools, and knowledge to respond to user queries. The Assistants API currently supports three types of tools: `Code Interpreter`, `Knowledge Retrieval`, and `Function Calling`. In the future, OpenAI plans to release more built-in tools and allow you to build tools of your own."
   ]
  },
  {
   "cell_type": "code",
   "execution_count": 1,
   "id": "6256fa68",
   "metadata": {},
   "outputs": [],
   "source": [
    "from openai import OpenAI\n",
    "\n",
    "client = OpenAI(api_key='API_KEY')"
   ]
  },
  {
   "cell_type": "markdown",
   "id": "b195540d",
   "metadata": {},
   "source": [
    "## Knowledge Retrieval tool (RAG made easy)\n",
    "\n",
    "The `Knowledge Retrieval` tools makes it easy to answer questions from curated sets of documents using [Retrieval Augmented Generation](https://arxiv.org/abs/2312.10997), or RAG. Let's demonstrate by building an assistant that can answer questions about electric vehicles (EVs) using three government PDFs as its knowledge base. Begin by loading the PDFs."
   ]
  },
  {
   "cell_type": "code",
   "execution_count": 2,
   "id": "c81054d2",
   "metadata": {},
   "outputs": [],
   "source": [
    "file1 = client.files.create(\n",
    "    file=open('Data/electric_vehicles.pdf', 'rb'),\n",
    "    purpose='assistants'\n",
    ")\n",
    "\n",
    "file2 = client.files.create(\n",
    "    file=open('Data/pev_consumer_handbook.pdf', 'rb'),\n",
    "    purpose='assistants'\n",
    ")\n",
    "\n",
    "\n",
    "file3 = client.files.create(\n",
    "    file=open('Data/department-for-transport-ev-guide.pdf', 'rb'),\n",
    "    purpose='assistants'\n",
    ")"
   ]
  },
  {
   "cell_type": "markdown",
   "id": "4a1e3f27",
   "metadata": {},
   "source": [
    "Now create an assistant that uses the `Knowledge Retrieval` tool and upload the PDFs."
   ]
  },
  {
   "cell_type": "code",
   "execution_count": 3,
   "id": "f15bf464",
   "metadata": {},
   "outputs": [],
   "source": [
    "assistant = client.beta.assistants.create(\n",
    "    instructions='You are a transportation expert who can answer questions about electric vehicles.',\n",
    "    model='gpt-4-turbo-preview',\n",
    "    tools=[{ 'type': 'retrieval' }],\n",
    "    file_ids=[file1.id, file2.id, file3.id]\n",
    ")"
   ]
  },
  {
   "cell_type": "markdown",
   "id": "811d1ba7",
   "metadata": {},
   "source": [
    "Ask the assistant a question about electric vehicles."
   ]
  },
  {
   "cell_type": "code",
   "execution_count": 4,
   "id": "d72f7052",
   "metadata": {},
   "outputs": [
    {
     "name": "stdout",
     "output_type": "stream",
     "text": [
      "in_progress\n",
      "in_progress\n",
      "in_progress\n",
      "in_progress\n",
      "in_progress\n",
      "in_progress\n",
      "completed\n"
     ]
    }
   ],
   "source": [
    "import time\n",
    "\n",
    "# Create a message thread\n",
    "thread = client.beta.threads.create()\n",
    "\n",
    "# Add a message to the message thread\n",
    "message = client.beta.threads.messages.create(\n",
    "    thread_id=thread.id,\n",
    "    role='user',\n",
    "    content='How far can an EV travel on a single charge?'\n",
    ")\n",
    "\n",
    "# Initiate a run and loop until it completes\n",
    "run = client.beta.threads.runs.create(\n",
    "    thread_id=thread.id,\n",
    "    assistant_id=assistant.id\n",
    ")\n",
    "\n",
    "while run.status == 'queued' or run.status == 'in_progress':\n",
    "    time.sleep(2)\n",
    "    \n",
    "    run = client.beta.threads.runs.retrieve(\n",
    "        thread_id=thread.id,\n",
    "        run_id=run.id\n",
    "    )\n",
    "    \n",
    "    print(run.status)"
   ]
  },
  {
   "cell_type": "markdown",
   "id": "56cf30e2",
   "metadata": {},
   "source": [
    "If the run completed successfully, show the response."
   ]
  },
  {
   "cell_type": "code",
   "execution_count": 5,
   "id": "8205ddd1",
   "metadata": {},
   "outputs": [
    {
     "name": "stdout",
     "output_type": "stream",
     "text": [
      "The distance an electric vehicle (EV) can travel on a single charge, known as its range, varies significantly depending on the make and model of the vehicle, battery capacity, driving conditions, and driving habits. As of my last update in 2023, here is a general overview:\n",
      "\n",
      "1. **Entry-level EVs** typically offer a range of about 100 to 150 miles (160 to 240 kilometers) on a full charge. These are usually more affordable models designed for city driving and short commutes.\n",
      "\n",
      "2. **Mid-tier EVs** often have ranges between 200 to 300 miles (320 to 480 kilometers). This category includes a broad spectrum of vehicles, from compact cars to SUVs, capable of accommodating most daily needs and longer commutes.\n",
      "\n",
      "3. **High-end or long-range EVs** can exceed 300 miles (roughly 480 kilometers), with some models boasting ranges up to 400 miles (about 640 kilometers) or more on a single charge. These vehicles typically come with a higher price tag and are aimed at consumers looking for the maximum range to eliminate any concerns about range anxiety.\n",
      "\n",
      "Specific examples as of 2023 include the Tesla Model S, which can travel up to around 405 miles on a single charge according to EPA estimates, making it one of the longest-range EVs available on the market. Other models from brands like Lucid Air, Ford Mustang Mach-E, VW ID.4, and Chevrolet Bolt also offer various ranges that fit within these categories.\n",
      "\n",
      "It's important to note that the actual range can be influenced by factors such as temperature, weather conditions, the car's load, use of air conditioning or heating, and driving style. Newly emerging technologies and improvements in battery density and efficiency could lead to even greater ranges in the future.\n"
     ]
    }
   ],
   "source": [
    "if run.status == 'completed':\n",
    "    messages = client.beta.threads.messages.list(thread_id=thread.id)\n",
    "    print(messages.data[0].content[0].text.value)"
   ]
  },
  {
   "cell_type": "markdown",
   "id": "0d0caa51",
   "metadata": {},
   "source": [
    "## Function Calling tool (computing distances)\n",
    "\n",
    "The `Function Calling` tool lets you extend an LLM's capabilities by providing functions that it can call to execute tasks that it isn't capable of executing on its own. To demonstrate, let's give an LLM the ability to compute distances between points on a map using the [Haversine formula](https://en.wikipedia.org/wiki/Haversine_formula). Start by asking `GPT-4` to compute the distance between two locations."
   ]
  },
  {
   "cell_type": "code",
   "execution_count": 6,
   "id": "5e3fb843",
   "metadata": {},
   "outputs": [
    {
     "name": "stdout",
     "output_type": "stream",
     "text": [
      "To approximate the distance an airplane travels between two points on the Earth's surface given their latitudes and longitudes, we often use the haversine formula. The haversine formula gives the great-circle distance between two points, which is the shortest distance over the Earth's surface, giving an \"as-the-crow-flies\" distance between the points (ignoring any hills, valleys, or other potential obstructions).\n",
      "\n",
      "The haversine formula is as follows:\n",
      "\n",
      "\\[ a = \\sin^2\\left(\\frac{\\Delta\\varphi}{2}\\right) + \\cos(\\varphi_1) \\cdot \\cos(\\varphi_2) \\cdot \\sin^2\\left(\\frac{\\Delta\\lambda}{2}\\right) \\]\n",
      "\n",
      "\\[ c = 2 \\cdot \\text{atan2}\\left(\\sqrt{a}, \\sqrt{1-a}\\right) \\]\n",
      "\n",
      "\\[ d = R \\cdot c \\]\n",
      "\n",
      "Where:\n",
      "- \\(\\varphi_1\\) and \\(\\varphi_2\\) are the latitudes of the two points in radians,\n",
      "- \\(\\Delta\\varphi\\) is the difference between the latitudes,\n",
      "- \\(\\Delta\\lambda\\) is the difference between the longitudes (in radians),\n",
      "- \\(R\\) is the Earth's radius (mean radius = 6,371 km),\n",
      "- \\(d\\) is the distance between the two points along the surface of the Earth.\n",
      "\n",
      "Given:\n",
      "- Latitude and longitude of Oak Ridge, TN: \\(36.010357^\\circ N, -84.269646^\\circ E\\)\n",
      "- Latitude and longitude of Livermore, CA: \\(37.681873^\\circ N, -121.768005^\\circ E\\)\n",
      "\n",
      "Let's calculate the distance:\n",
      "\n",
      "Convert all latitudes and longitudes from degrees to radians (1 degree = \\(\\pi/180\\) radians):\n",
      "\n",
      "- \\(\\varphi_1 = 36.010357 \\times \\pi/180\\)\n",
      "- \\(\\varphi_2 = 37.681873 \\times \\pi/180\\)\n",
      "- \\(\\Delta\\varphi = (37.681873 - 36.010357) \\times \\pi/180\\)\n",
      "- \\(\\Delta\\lambda = (-121.768005 - (-84.269646)) \\times \\pi/180\\)\n",
      "\n",
      "Plugging these values into the haversine formula:\n",
      "\n",
      "\\[ a = \\sin^2\\left(\\frac{\\Delta\\varphi}{2}\\right) + \\cos(\\varphi_1) \\cdot \\cos(\\varphi_2) \\cdot \\sin^2\\left(\\frac{\\Delta\\lambda}{2}\\right) \\]\n",
      "\n",
      "After calculating \\(a\\), we then determine \\(c\\) and consequently \\(d\\).\n",
      "\n",
      "For simplicity and given the potential for computational rounding, let's approximate using the haversine formula directly in a simpler expression for direct computation:\n",
      "\n",
      "\\[ d \\approx 2 \\cdot 6371 \\cdot \\text{atan2}\\left(\\sqrt{a}, \\sqrt{1-a}\\right) \\]\n",
      "\n",
      "Doing this computation with the actual values:\n",
      "\n",
      "- \\(\\Delta\\varphi = 1.4639 \\times 10^{-2}\\) (radians)\n",
      "- \\(\\Delta\\lambda = -0.656277\\) (radians)\n",
      "  \n",
      "Plugging these into the formula to find \\(a\\), and then finding \\(c\\) and eventually \\(d\\), yields a distance which, for expedited explanation, I'll calculate using the outlined steps directly:\n",
      "\n",
      "\\[ a \\approx \\sin^2(0.007315) + \\cos(0.628320) \\cdot \\cos(0.657480) \\cdot \\sin^2(-0.3281385) \\]\n",
      "\n",
      "\\[ d \\approx 2 \\cdot 6371 \\cdot \\text{atan2}(\\sqrt{a}, \\sqrt{1-a}) \\]\n",
      "\n",
      "Using a calculator or programming tool to perform these specific operations because of the complexity and to ensure accuracy:\n",
      "\n",
      "\\[ d \\approx 3175 \\, \\text{km} \\]\n",
      "\n",
      "This is a rough estimate. The actual distance might vary slightly due to the choice of mean Earth radius, the specific route taken due to air traffic regulations, wind conditions, or other factors. However, it gives a good approximation of the great-circle distance between Oak Ridge, TN, and Livermore, CA.\n"
     ]
    }
   ],
   "source": [
    "prompt = '''\n",
    "An airplane flies from one location at latitude 36.010357, longitude -84.269646\n",
    "(Oak Ridge, TN) to another location at latitude 37.681873, longitude -121.768005\n",
    "(Livermore, CA). How far did the airplane travel?\n",
    "'''\n",
    "\n",
    "messages = [{ 'role': 'user', 'content': prompt }]\n",
    "\n",
    "response = client.chat.completions.create(\n",
    "    model='gpt-4-turbo-preview',\n",
    "    messages=messages\n",
    ")\n",
    "\n",
    "print(response.choices[0].message.content)"
   ]
  },
  {
   "cell_type": "markdown",
   "id": "443044fe",
   "metadata": {},
   "source": [
    "Define a function that accepts two latitudes and longitudes as input and returns the distance between them in miles."
   ]
  },
  {
   "cell_type": "code",
   "execution_count": 7,
   "id": "c03b79fe",
   "metadata": {},
   "outputs": [],
   "source": [
    "import math\n",
    "import numpy as np\n",
    "\n",
    "def get_haversine_distance(lat1, lon1, lat2, lon2):\n",
    "    lat1, lon1, lat2, lon2 = map(math.radians, [lat1, lon1, lat2, lon2])\n",
    "    dlat = lat2 - lat1\n",
    "    dlon = lon2 - lon1\n",
    "    a = np.sin(dlat/2)**2 + np.cos(lat1) * np.cos(lat2) * np.sin(dlon/2)**2\n",
    "    c = 2 * np.arctan2(np.sqrt(a), np.sqrt(1 - a))\n",
    "    radius_earth = 3958.8  # Radius of Earth in miles\n",
    "    return np.abs(radius_earth * c)"
   ]
  },
  {
   "cell_type": "markdown",
   "id": "d41e6d44",
   "metadata": {},
   "source": [
    "Describe the function and its parameters to the Assistants API."
   ]
  },
  {
   "cell_type": "code",
   "execution_count": 8,
   "id": "39c8b6ad",
   "metadata": {},
   "outputs": [],
   "source": [
    "tools = [\n",
    "    {\n",
    "        'type': 'function',\n",
    "        'function': {\n",
    "            'name': 'get_haversine_distance',\n",
    "            'description': 'Computes the distance in miles between two latitudes and longitudes',\n",
    "            'parameters': {\n",
    "                'type': 'object',\n",
    "                'properties': {\n",
    "                    'lat1': {\n",
    "                        'type': 'number',\n",
    "                        'description': 'Latitude at the origin'\n",
    "                    },\n",
    "                    'lon1': {\n",
    "                        'type': 'number',\n",
    "                        'description': 'Longitude at the origin'\n",
    "                    },\n",
    "                    'lat2': {\n",
    "                        'type': 'number',\n",
    "                        'description': 'Latitude at the destination'\n",
    "                    },\n",
    "                    'lon2': {\n",
    "                        'type': 'number',\n",
    "                        'description': 'Longitude at the destination'\n",
    "                    }\n",
    "                },\n",
    "                'required': ['lat1', 'lon1', 'lat2', 'lon2']\n",
    "            }\n",
    "        }\n",
    "    },\n",
    "]"
   ]
  },
  {
   "cell_type": "markdown",
   "id": "e45a9501",
   "metadata": {},
   "source": [
    "Create an assistant that's aware of the function."
   ]
  },
  {
   "cell_type": "code",
   "execution_count": 9,
   "id": "d7a1a0af",
   "metadata": {},
   "outputs": [],
   "source": [
    "assistant = client.beta.assistants.create(\n",
    "    instructions='You are a helpful assistant who can provide information about distances traveled.',\n",
    "    model='gpt-4-1106-preview',\n",
    "    tools=tools\n",
    ")"
   ]
  },
  {
   "cell_type": "markdown",
   "id": "d58c2442",
   "metadata": {},
   "source": [
    "Feed the same prompt as before to the assistant."
   ]
  },
  {
   "cell_type": "code",
   "execution_count": 10,
   "id": "45c1ec3b",
   "metadata": {},
   "outputs": [
    {
     "name": "stdout",
     "output_type": "stream",
     "text": [
      "Run status: in_progress\n",
      "Run status: in_progress\n",
      "Run status: requires_action\n",
      "Calling get_haversine_distance()\n",
      "Run status: in_progress\n",
      "Run status: completed\n"
     ]
    }
   ],
   "source": [
    "import json\n",
    "\n",
    "# Create a message thread\n",
    "thread = client.beta.threads.create()\n",
    "\n",
    "# Add a message to the message thread\n",
    "message = client.beta.threads.messages.create(\n",
    "    thread_id=thread.id,\n",
    "    role='user',\n",
    "    content=prompt\n",
    ")\n",
    "\n",
    "# Initiate a run and loop until it completes\n",
    "run = client.beta.threads.runs.create(\n",
    "    thread_id=thread.id,\n",
    "    assistant_id=assistant.id\n",
    ")\n",
    "\n",
    "while run.status == 'queued' or run.status == 'in_progress' or run.status == 'requires_action':\n",
    "    time.sleep(1)\n",
    "\n",
    "    run = client.beta.threads.runs.retrieve(\n",
    "        thread_id=thread.id,\n",
    "        run_id=run.id\n",
    "    )\n",
    "\n",
    "    print(f'Run status: { run.status }')\n",
    "\n",
    "    # If the run requires further action, perform the action\n",
    "    if run.status == 'requires_action':\n",
    "        tool_outputs = []\n",
    "\n",
    "        for tool_call in run.required_action.submit_tool_outputs.tool_calls:\n",
    "            function_name = tool_call.function.name\n",
    "\n",
    "            if function_name == 'get_haversine_distance':\n",
    "                print('Calling get_haversine_distance()')\n",
    "                lat1 = json.loads(tool_call.function.arguments)['lat1']\n",
    "                lon1 = json.loads(tool_call.function.arguments)['lon1']\n",
    "                lat2 = json.loads(tool_call.function.arguments)['lat2']\n",
    "                lon2 = json.loads(tool_call.function.arguments)['lon2']\n",
    "                output = get_haversine_distance(lat1, lon1, lat2, lon2)\n",
    "            else:\n",
    "                raise Exception('Invalid function name')\n",
    "\n",
    "            tool_output = {\n",
    "                'tool_call_id': tool_call.id,\n",
    "                'output': output\n",
    "            }\n",
    "\n",
    "            tool_outputs.append(tool_output)        \n",
    "\n",
    "        # Pass the tool output to the Assistants API\n",
    "        run = client.beta.threads.runs.submit_tool_outputs(\n",
    "            thread_id=thread.id,\n",
    "            run_id=run.id,\n",
    "            tool_outputs=tool_outputs\n",
    "        )"
   ]
  },
  {
   "cell_type": "markdown",
   "id": "51a7c144",
   "metadata": {},
   "source": [
    "If the run completed successfully, show the response."
   ]
  },
  {
   "cell_type": "code",
   "execution_count": 11,
   "id": "6116cadc",
   "metadata": {},
   "outputs": [
    {
     "name": "stdout",
     "output_type": "stream",
     "text": [
      "The airplane traveled approximately 2062.76 miles from Oak Ridge, TN to Livermore, CA.\n"
     ]
    }
   ],
   "source": [
    "if run.status == 'completed':\n",
    "    messages = client.beta.threads.messages.list(thread_id=thread.id)\n",
    "    print(messages.data[0].content[0].text.value)"
   ]
  },
  {
   "cell_type": "markdown",
   "id": "5447134b",
   "metadata": {},
   "source": [
    "## Code Interpreter tool (chart generation)\n",
    "\n",
    "The `Code Interpreter` tool responds to user queries by generating and executing Python code. One use for it is generating charts and graphs from data you provide. To demonstrate, let's create an assistant that knows about the tool and pass it the contents of a CSV file containing information about delays at major airports. Here's the CSV file:"
   ]
  },
  {
   "cell_type": "code",
   "execution_count": 12,
   "id": "57d25263",
   "metadata": {},
   "outputs": [
    {
     "data": {
      "text/html": [
       "<div>\n",
       "<style scoped>\n",
       "    .dataframe tbody tr th:only-of-type {\n",
       "        vertical-align: middle;\n",
       "    }\n",
       "\n",
       "    .dataframe tbody tr th {\n",
       "        vertical-align: top;\n",
       "    }\n",
       "\n",
       "    .dataframe thead th {\n",
       "        text-align: right;\n",
       "    }\n",
       "</style>\n",
       "<table border=\"1\" class=\"dataframe\">\n",
       "  <thead>\n",
       "    <tr style=\"text-align: right;\">\n",
       "      <th></th>\n",
       "      <th>Airport</th>\n",
       "      <th>Average Delay</th>\n",
       "    </tr>\n",
       "  </thead>\n",
       "  <tbody>\n",
       "    <tr>\n",
       "      <th>0</th>\n",
       "      <td>ATL</td>\n",
       "      <td>22</td>\n",
       "    </tr>\n",
       "    <tr>\n",
       "      <th>1</th>\n",
       "      <td>JFK</td>\n",
       "      <td>146</td>\n",
       "    </tr>\n",
       "    <tr>\n",
       "      <th>2</th>\n",
       "      <td>LGA</td>\n",
       "      <td>98</td>\n",
       "    </tr>\n",
       "    <tr>\n",
       "      <th>3</th>\n",
       "      <td>DTW</td>\n",
       "      <td>13</td>\n",
       "    </tr>\n",
       "    <tr>\n",
       "      <th>4</th>\n",
       "      <td>MCO</td>\n",
       "      <td>12</td>\n",
       "    </tr>\n",
       "    <tr>\n",
       "      <th>5</th>\n",
       "      <td>MCI</td>\n",
       "      <td>12</td>\n",
       "    </tr>\n",
       "    <tr>\n",
       "      <th>6</th>\n",
       "      <td>LHR</td>\n",
       "      <td>33</td>\n",
       "    </tr>\n",
       "    <tr>\n",
       "      <th>7</th>\n",
       "      <td>CDG</td>\n",
       "      <td>45</td>\n",
       "    </tr>\n",
       "    <tr>\n",
       "      <th>8</th>\n",
       "      <td>LAX</td>\n",
       "      <td>26</td>\n",
       "    </tr>\n",
       "  </tbody>\n",
       "</table>\n",
       "</div>"
      ],
      "text/plain": [
       "  Airport  Average Delay\n",
       "0     ATL             22\n",
       "1     JFK            146\n",
       "2     LGA             98\n",
       "3     DTW             13\n",
       "4     MCO             12\n",
       "5     MCI             12\n",
       "6     LHR             33\n",
       "7     CDG             45\n",
       "8     LAX             26"
      ]
     },
     "execution_count": 12,
     "metadata": {},
     "output_type": "execute_result"
    }
   ],
   "source": [
    "import pandas as pd\n",
    "\n",
    "df = pd.read_csv('Data/delays.csv')\n",
    "df.head(None)"
   ]
  },
  {
   "cell_type": "markdown",
   "id": "4012d248",
   "metadata": {},
   "source": [
    "Now create an assistant and make the CSV file available to it."
   ]
  },
  {
   "cell_type": "code",
   "execution_count": 13,
   "id": "be02cbc6",
   "metadata": {},
   "outputs": [],
   "source": [
    "file = client.files.create(\n",
    "    file=open('Data/delays.csv', 'rb'),\n",
    "    purpose='assistants'\n",
    ")\n",
    "\n",
    "assistant = client.beta.assistants.create(\n",
    "    instructions='You are a helpful assistant who can generate informative charts and graphs from CSV files.',\n",
    "    tools=[{ 'type': 'code_interpreter' }],\n",
    "    file_ids=[file.id],\n",
    "    model='gpt-4-turbo-preview'\n",
    ")"
   ]
  },
  {
   "cell_type": "markdown",
   "id": "6206be16",
   "metadata": {},
   "source": [
    "Ask the assistant to generate a chart from the data in the CSV file."
   ]
  },
  {
   "cell_type": "code",
   "execution_count": 14,
   "id": "bdf9a97a",
   "metadata": {},
   "outputs": [
    {
     "name": "stdout",
     "output_type": "stream",
     "text": [
      "in_progress\n",
      "in_progress\n",
      "in_progress\n",
      "in_progress\n",
      "in_progress\n",
      "in_progress\n",
      "in_progress\n",
      "in_progress\n",
      "in_progress\n",
      "in_progress\n",
      "in_progress\n",
      "in_progress\n",
      "in_progress\n",
      "completed\n"
     ]
    }
   ],
   "source": [
    "# Create a message thread\n",
    "thread = client.beta.threads.create()\n",
    "\n",
    "# Add a message to the message thread\n",
    "message = client.beta.threads.messages.create(\n",
    "    thread_id=thread.id,\n",
    "    role='user',\n",
    "    content='Generate a colorful histogram showing delays at various airports.',\n",
    "    file_ids=[file.id]\n",
    ")\n",
    "\n",
    "# Initiate a run and loop until it completes\n",
    "run = client.beta.threads.runs.create(\n",
    "    thread_id=thread.id,\n",
    "    assistant_id=assistant.id\n",
    ")\n",
    "\n",
    "while run.status == 'queued' or run.status == 'in_progress':\n",
    "    time.sleep(5)\n",
    "    \n",
    "    run = client.beta.threads.runs.retrieve(\n",
    "        thread_id=thread.id,\n",
    "        run_id=run.id\n",
    "    )\n",
    "    \n",
    "    print(run.status)"
   ]
  },
  {
   "cell_type": "markdown",
   "id": "f2c86ff3",
   "metadata": {},
   "source": [
    "If the call was successful, get the response and display the image that was generated."
   ]
  },
  {
   "cell_type": "code",
   "execution_count": 15,
   "id": "3bb6519c",
   "metadata": {},
   "outputs": [
    {
     "data": {
      "image/png": "[encoded data removed]",
      "text/plain": [
       "<IPython.core.display.Image object>"
      ]
     },
     "metadata": {},
     "output_type": "display_data"
    }
   ],
   "source": [
    "from IPython.display import display, Image\n",
    "\n",
    "if run.status == 'completed':\n",
    "    messages = client.beta.threads.messages.list(thread_id=thread.id)\n",
    "\n",
    "    file_id = messages.data[0].content[0].image_file.file_id\n",
    "    image_file = client.files.content(file_id)\n",
    "    image_bytes = image_file.read()\n",
    "    \n",
    "    display(Image(image_bytes))"
   ]
  }
 ],
 "metadata": {
  "kernelspec": {
   "display_name": "Python 3 (ipykernel)",
   "language": "python",
   "name": "python3"
  },
  "language_info": {
   "codemirror_mode": {
    "name": "ipython",
    "version": 3
   },
   "file_extension": ".py",
   "mimetype": "text/x-python",
   "name": "python",
   "nbconvert_exporter": "python",
   "pygments_lexer": "ipython3",
   "version": "3.11.4"
  }
 },
 "nbformat": 4,
 "nbformat_minor": 5
}
